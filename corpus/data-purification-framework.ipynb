{
 "nbformat": 4,
 "nbformat_minor": 2,
 "metadata": {
  "language_info": {
   "name": "python",
   "codemirror_mode": {
    "name": "ipython",
    "version": 3
   }
  },
  "orig_nbformat": 2,
  "file_extension": ".py",
  "mimetype": "text/x-python",
  "name": "python",
  "npconvert_exporter": "python",
  "pygments_lexer": "ipython3",
  "version": 3
 },
 "cells": [
  {
   "cell_type": "code",
   "execution_count": null,
   "metadata": {},
   "outputs": [],
   "source": [
    "# Match 1.0\n",
    "+ 所有正常数据做正样本\n",
    "+ 随机抽取的一些Q 和 其他的A 生成数量相等的负样本"
   ]
  },
  {
   "cell_type": "code",
   "execution_count": null,
   "metadata": {},
   "outputs": [],
   "source": [
    "# Match 1.1\n",
    "+ 使用 Match 1.0 预测原始训练集，按照预测概率对原始qa 对进行排序\n",
    "+ 低于谋个概率值的qa 对全部删除(如果删除过多，可以设置一个最高删除比例)\n",
    " "
   ]
  },
  {
   "cell_type": "code",
   "execution_count": null,
   "metadata": {},
   "outputs": [],
   "source": [
    "# Match 1.2\n",
    "+ 使用Match 1.1 清洗后的数据作为正样本，随机生成等量的负样本\n",
    "+ 设置 阈值 或删除比例 进行 清洗"
   ]
  },
  {
   "cell_type": "code",
   "execution_count": null,
   "metadata": {},
   "outputs": [],
   "source": [
    "# Match 1.2 -> 1.x"
   ]
  },
  {
   "cell_type": "code",
   "execution_count": null,
   "metadata": {},
   "outputs": [],
   "source": [
    "# Match 2.0\n",
    "+ 使用 match 1.x 处理 全部原始数据"
   ]
  },
  {
   "cell_type": "code",
   "execution_count": null,
   "metadata": {},
   "outputs": [],
   "source": [
    "# Match 2.0 -> Match 2.x"
   ]
  },
  {
   "cell_type": "code",
   "execution_count": null,
   "metadata": {},
   "outputs": [],
   "source": [
    "from snownlp import SnowNLP\n",
    "import os\n",
    "path = '/Users/sunhongchao/Documents/craft/Awesome/Awesome-Corpus/single-multi/multi_round/'\n",
    "files = os.listdir(path)\n",
    "\n",
    "tmp_conv_list = []\n",
    "\n",
    "for file in files:\n",
    "    if not os.path.isdir(file):\n",
    "        f = open(os.path.join(path, file), mode='r', encoding='utf-8')\n",
    "        lines = f.readlines()\n",
    "        for line in lines:\n",
    "            if len(line.strip()) < 1:\n",
    "                all_text_list.append('E')\n",
    "                all_conv_list.append(tmp_conv_list.copy())\n",
    "                tmp_conv_list = []\n",
    "            else:\n",
    "                all_text_list.append('M' + '\\t' + line.strip())\n",
    "                tmp_conv_list.append(line.strip())\n",
    "\n",
    "for item in all_text_list[:10]:\n",
    "    print(item)\n",
    "\n",
    "for item in all_conv_list[:5]:\n",
    "    print(item)"
   ]
  },
  {
   "cell_type": "code",
   "execution_count": null,
   "metadata": {},
   "outputs": [],
   "source": []
  }
 ]
}