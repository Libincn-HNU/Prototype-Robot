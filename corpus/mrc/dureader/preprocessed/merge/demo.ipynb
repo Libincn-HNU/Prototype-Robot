{
 "nbformat": 4,
 "nbformat_minor": 2,
 "metadata": {
  "language_info": {
   "name": "python",
   "codemirror_mode": {
    "name": "ipython",
    "version": 3
   },
   "version": "3.6.10-final"
  },
  "orig_nbformat": 2,
  "file_extension": ".py",
  "mimetype": "text/x-python",
  "name": "python",
  "npconvert_exporter": "python",
  "pygments_lexer": "ipython3",
  "version": 3,
  "kernelspec": {
   "name": "python361064bittfbaseconda420b7adc052a4c74b20c194d902ed007",
   "display_name": "Python 3.6.10 64-bit ('tf_base': conda)"
  }
 },
 "cells": [
  {
   "cell_type": "code",
   "execution_count": 6,
   "metadata": {},
   "outputs": [
    {
     "name": "stdout",
     "output_type": "stream",
     "text": "/Users/apollo/Documents/Bot/corpus/mrc/dureader\n"
    }
   ],
   "source": [
    "!pwd"
   ]
  },
  {
   "cell_type": "code",
   "execution_count": 19,
   "metadata": {},
   "outputs": [
    {
     "name": "stdout",
     "output_type": "stream",
     "text": "5000\n"
    }
   ],
   "source": [
    "import json\n",
    "with open('/Users/apollo/Documents/Bot/corpus/mrc/dureader/raw/devset/search.dev.json', mode='r', encoding='utf-8') as f:\n",
    "    dataset = f.readlines()\n",
    "    print(len(devset))\n",
    "# ['documents', 'entity_answers', 'question', 'answers', 'question_type', 'question_id', 'fact_or_opinion']\n",
    "# documents dict_keys(['is_selected', 'title', 'paragraphs'])"
   ]
  },
  {
   "cell_type": "code",
   "execution_count": 38,
   "metadata": {},
   "outputs": [
    {
     "name": "stdout",
     "output_type": "stream",
     "text": "**************************************************\n**************************************************\nquestion 2017有什么好看的小说\nanswer 1.《将夜》2.《择天记》3.《冒牌大英雄》4.《无限恐怖》5.《恐怖搞校》6.《大国医》7.《龙魔导》。\n**************************************************\n**********\n2017年好看小说排行榜_小说推荐吧_百度贴吧\n&&&&&&&&&&\n2017年好书排行榜。读书十几年,晒晒让我沉醉的那些书单本书单没有主次,不要在意\n**********\n2017最好看的穿越小说 穿越小说排行榜前10名\n&&&&&&&&&&\n近年来,穿越小说、穿越剧以时尚、前卫的姿态进入到公众的视野当中,并且席卷了中国的\n**********\n2017年第一季,超好看的小说大盘点\n&&&&&&&&&&\n文章 阅读\n**************************************************\n**************************************************\nquestion 截至和截止区别\nanswer “截止”与“截至”的区别：一、名次解释：“截止”表示到某个时间停止，强调“停止”；“截至”表示停止于某个时间，强调“时间”。\n**************************************************\n**********\n截止与截至的区别_百度知道\n&&&&&&&&&&\n“截止”与“截至”的区别: 一、名次解释: “截止”表示到某个时间停止,强调“停\n**********\n截至和截止有什么区别_百度知道\n&&&&&&&&&&\n截止:是到某期限停止; 截至:是停止于某期限. 如:这项工作到今年六月份截止. \n"
    }
   ],
   "source": [
    "for item in devset[]:\n",
    "    item = json.loads(item)\n",
    "\n",
    "    print('*'*50)\n",
    "    print('*'*50)\n",
    "    print('question', item['question'])\n",
    "    print('answer', item['answers'][0])\n",
    "    print('*'*50)\n",
    "\n",
    "    for document in item['documents']:\n",
    "        if document['is_selected'] is True:\n",
    "            print('*'*10)\n",
    "            print(document['title'])\n",
    "            print('&'*10)\n",
    "            print(document['paragraphs'][0][:40])\n"
   ]
  },
  {
   "cell_type": "code",
   "execution_count": null,
   "metadata": {},
   "outputs": [],
   "source": []
  }
 ]
}