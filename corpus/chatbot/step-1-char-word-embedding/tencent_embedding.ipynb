{
 "nbformat": 4,
 "nbformat_minor": 2,
 "metadata": {
  "language_info": {
   "name": "python",
   "codemirror_mode": {
    "name": "ipython",
    "version": 3
   },
   "version": "3.6.0-final"
  },
  "orig_nbformat": 2,
  "file_extension": ".py",
  "mimetype": "text/x-python",
  "name": "python",
  "npconvert_exporter": "python",
  "pygments_lexer": "ipython3",
  "version": 3,
  "kernelspec": {
   "name": "python36064bittfbaseconda3d523c105529487eac4d678fdf237542",
   "display_name": "Python 3.6.0 64-bit ('tf_base': conda)"
  }
 },
 "cells": [
  {
   "cell_type": "code",
   "execution_count": 1,
   "metadata": {},
   "outputs": [
    {
     "name": "stdout",
     "output_type": "stream",
     "text": "100000\n200000\n300000\n400000\n500000\n600000\n700000\n800000\n900000\n1000000\n1100000\n1200000\n1300000\n1400000\n1500000\n1600000\n1700000\n1800000\n1900000\n2000000\n2100000\n2200000\n2300000\n2400000\n2500000\n2600000\n2700000\n2800000\n2900000\n3000000\n3100000\n3200000\n3300000\n3400000\n3500000\n3600000\n3700000\n3800000\n3900000\n4000000\n4100000\n4200000\n4300000\n4400000\n4500000\n4600000\n4700000\n4800000\n4900000\n5000000\n5100000\n5200000\n5300000\n5400000\n5500000\n5600000\n5700000\n5800000\n5900000\n6000000\n6100000\n6200000\n6300000\n6400000\n6500000\n6600000\n6700000\n6800000\n6900000\n7000000\n7100000\n7200000\n7300000\n7400000\n7500000\n7600000\n7700000\n7800000\n7900000\n8000000\n8100000\n8200000\n8300000\n8400000\n8500000\n8600000\n8700000\n8800000\n"
    }
   ],
   "source": [
    "# 获取 embedding matrix\n",
    "embedding_path = '/Users/sunhongchao/Documents/Tencent_AILab_ChineseEmbedding/Tencent_AILab_ChineseEmbedding.txt'\n",
    "\n",
    "fin = open(embedding_path, 'r', encoding='utf-8', newline='\\n', errors='ignore')\n",
    "\n",
    "single = []\n",
    "multi = []\n",
    "\n",
    "count = 0\n",
    "for line in fin:\n",
    "    count = count + 1\n",
    "    if count % 100000 == 0:\n",
    "        print(count)\n",
    "    tokens = line.rstrip().split(' ') \n",
    "    tmp = tokens[0]\n",
    "    if len(tmp) == 1:\n",
    "        single.append(tmp)\n",
    "    else:\n",
    "        multi.append(tmp)\n",
    "        \n"
   ]
  },
  {
   "cell_type": "code",
   "execution_count": 2,
   "metadata": {},
   "outputs": [
    {
     "name": "stdout",
     "output_type": "stream",
     "text": "22751\n"
    }
   ],
   "source": [
    "print(len(single))"
   ]
  },
  {
   "cell_type": "code",
   "execution_count": 3,
   "metadata": {},
   "outputs": [
    {
     "name": "stdout",
     "output_type": "stream",
     "text": "8801580\n"
    }
   ],
   "source": [
    "print(len(multi))"
   ]
  },
  {
   "cell_type": "code",
   "execution_count": 4,
   "metadata": {},
   "outputs": [
    {
     "name": "stdout",
     "output_type": "stream",
     "text": "in\n"
    }
   ],
   "source": [
    "if '放' in single:\n",
    "    print('in')\n",
    "else:\n",
    "    print('false')"
   ]
  },
  {
   "cell_type": "code",
   "execution_count": 5,
   "metadata": {},
   "outputs": [
    {
     "name": "stdout",
     "output_type": "stream",
     "text": "['的', '。', ',', '了', '、', '“', '”', '是', '在', '？', '！', '和', '：', '我', '有', '就', '也', '.', '你', '他', '都', '（', '）', '上', '啊', '与', '她', '个', '对', '这', '~', '为', '?', '等', '吗', '而', '到', '但', '将', '被', '-', '中', '吧', '从', '要', '呢', '把', '还', '不', '后', '去', '会', '来', '着', '让', ')', '(', '说', '又', '时', '那', '给', '/', '用', '里', '下', '地', '以', '却', '并', '好', '没', '能', '=', \"'\", '人', '或', '么', '一', '·', ':', '跟', '做', '才', '它', '看', '想', '…', '很', '道', '再', '过', '得', '及', '多', '可', '1', '点', '【', '】']\n"
    }
   ],
   "source": [
    "print(single[:100])"
   ]
  },
  {
   "cell_type": "code",
   "execution_count": 6,
   "metadata": {},
   "outputs": [],
   "source": [
    "char2idx ={}\n",
    "for idx, item in enumerate(single):\n",
    "    char2idx[item] = idx + 1"
   ]
  },
  {
   "cell_type": "code",
   "execution_count": 7,
   "metadata": {},
   "outputs": [
    {
     "data": {
      "text/plain": "189"
     },
     "execution_count": 7,
     "metadata": {},
     "output_type": "execute_result"
    }
   ],
   "source": [
    "char2idx.get('a')"
   ]
  },
  {
   "cell_type": "code",
   "execution_count": 8,
   "metadata": {},
   "outputs": [],
   "source": [
    "word2idx ={}\n",
    "for idx, item in enumerate(multi):\n",
    "    word2idx[item] = idx + len(single)"
   ]
  },
  {
   "cell_type": "code",
   "execution_count": 9,
   "metadata": {},
   "outputs": [
    {
     "data": {
      "text/plain": "36137"
     },
     "execution_count": 9,
     "metadata": {},
     "output_type": "execute_result"
    }
   ],
   "source": [
    "word2idx.get('apple')"
   ]
  },
  {
   "cell_type": "code",
   "execution_count": 10,
   "metadata": {},
   "outputs": [],
   "source": [
    "import pickle\n",
    "\n",
    "with open('char2idx_tencent.pkl', 'wb') as f:\n",
    "    pickle.dump(char2idx, f)\n",
    "\n",
    "with open('word2idx_tencent.pkl', 'wb') as f:\n",
    "    pickle.dump(word2idx, f)"
   ]
  },
  {
   "cell_type": "code",
   "execution_count": null,
   "metadata": {},
   "outputs": [],
   "source": []
  }
 ]
}