{
 "nbformat": 4,
 "nbformat_minor": 2,
 "metadata": {
  "language_info": {
   "name": "python",
   "codemirror_mode": {
    "name": "ipython",
    "version": 3
   },
   "version": "3.6.0-final"
  },
  "orig_nbformat": 2,
  "file_extension": ".py",
  "mimetype": "text/x-python",
  "name": "python",
  "npconvert_exporter": "python",
  "pygments_lexer": "ipython3",
  "version": 3,
  "kernelspec": {
   "name": "python36064bittfbaseconda3d523c105529487eac4d678fdf237542",
   "display_name": "Python 3.6.0 64-bit ('tf_base': conda)"
  }
 },
 "cells": [
  {
   "cell_type": "code",
   "execution_count": 13,
   "metadata": {},
   "outputs": [
    {
     "name": "stdout",
     "output_type": "stream",
     "text": "aa\naa\naa\n"
    }
   ],
   "source": [
    "for _ in range(3):\n",
    "    print('aa')"
   ]
  },
  {
   "cell_type": "code",
   "execution_count": 15,
   "metadata": {},
   "outputs": [
    {
     "name": "stdout",
     "output_type": "stream",
     "text": "0\n1\n2\n"
    }
   ],
   "source": [
    "for i in range(3):\n",
    "    print(i)"
   ]
  },
  {
   "cell_type": "code",
   "execution_count": 3,
   "metadata": {},
   "outputs": [
    {
     "data": {
      "text/plain": "array([1, 2, 3, 5, 6, 7])"
     },
     "execution_count": 3,
     "metadata": {},
     "output_type": "execute_result"
    }
   ],
   "source": [
    "a = [1, 2, 3]\n",
    "b = [5, 6, 7]\n",
    "import numpy as np\n",
    "np.concatenate([a, b], axis=0)"
   ]
  },
  {
   "cell_type": "code",
   "execution_count": 6,
   "metadata": {},
   "outputs": [
    {
     "data": {
      "text/plain": "array([1, 2, 3, 1, 2, 3])"
     },
     "execution_count": 6,
     "metadata": {},
     "output_type": "execute_result"
    }
   ],
   "source": [
    "import numpy as np\n",
    "np.concatenate([a*2], axis=0)"
   ]
  },
  {
   "cell_type": "code",
   "execution_count": null,
   "metadata": {},
   "outputs": [],
   "source": [
    "import numpy as np\n",
    "np.concatenate([a]*2, axis=0)"
   ]
  },
  {
   "cell_type": "code",
   "execution_count": 2,
   "metadata": {},
   "outputs": [
    {
     "name": "stdout",
     "output_type": "stream",
     "text": "3.14145666\n3.14\n"
    }
   ],
   "source": [
    "a = 3.14145666\n",
    "print(\"{}\".format(a))\n",
    "print(\"{:.2f}\".format(a))"
   ]
  },
  {
   "cell_type": "code",
   "execution_count": 3,
   "metadata": {},
   "outputs": [
    {
     "name": "stdout",
     "output_type": "stream",
     "text": "3\n"
    }
   ],
   "source": [
    "print(6//2)"
   ]
  },
  {
   "cell_type": "code",
   "execution_count": 7,
   "metadata": {},
   "outputs": [
    {
     "name": "stdout",
     "output_type": "stream",
     "text": "0\n"
    }
   ],
   "source": [
    "print(6%6)"
   ]
  },
  {
   "cell_type": "code",
   "execution_count": 9,
   "metadata": {},
   "outputs": [
    {
     "name": "stdout",
     "output_type": "stream",
     "text": "[0, 1]\n2\n"
    }
   ],
   "source": [
    "a = [0,1,2]\n",
    "print(a[:-1])\n",
    "print(a[-1])"
   ]
  },
  {
   "cell_type": "code",
   "execution_count": null,
   "metadata": {},
   "outputs": [],
   "source": [
    "import random\n",
    "a = [['a']*3,['b']*3,['c']*3]\n",
    "print(random.choice(a))"
   ]
  },
  {
   "cell_type": "code",
   "execution_count": 1,
   "metadata": {},
   "outputs": [
    {
     "name": "stdout",
     "output_type": "stream",
     "text": "['12', '3', '45', '12', '3', '45']\n"
    }
   ],
   "source": [
    "a = ['12', '3', '45'] * 2\n",
    "print(a)"
   ]
  },
  {
   "cell_type": "code",
   "execution_count": 19,
   "metadata": {},
   "outputs": [
    {
     "name": "stdout",
     "output_type": "stream",
     "text": "[array([5, 1, 3])]\n[array([['南无阿弥陀佛'],\n       ['真的'],\n       ['生气的操作']], dtype='<U6')]\n"
    }
   ],
   "source": [
    "import numpy as np\n",
    "actions = np.asanyarray([['你好啊'], ['真的'], ['服了'], ['生气的操作'], ['哈利路亚'], ['南无阿弥陀佛']])\n",
    "n_sample = 3\n",
    "\n",
    "negative_indices = [np.random.randint(0, actions.shape[0], n_sample) for _ in range(1)]\n",
    "print(negative_indices)\n",
    "negs = [actions[negative_indices[i]] for i in range(1)]\n",
    "print(negs)\n",
    "# negs_len = [actions_len[negative_indices[i]] for i in range(1)]"
   ]
  },
  {
   "cell_type": "code",
   "execution_count": null,
   "metadata": {},
   "outputs": [],
   "source": [
    "import numpy as np\n",
    "actions = np.asanyarray([['你好啊'], ['真的'], ['服了'], ['生气的操作'], ['哈利路亚'], ['南无阿弥陀佛']])\n",
    "n_sample = 3\n",
    "\n",
    "negative_indices = [np.random.randint(0, actions.shape[0], n_sample) for _ in range(1)]\n",
    "print(negative_indices)\n",
    "negs = [actions[negative_indices[i], :] for i in range(1)]\n",
    "print(negs)"
   ]
  },
  {
   "cell_type": "code",
   "execution_count": 1,
   "metadata": {},
   "outputs": [
    {
     "name": "stdout",
     "output_type": "stream",
     "text": "2\n"
    }
   ],
   "source": [
    "import numpy  as np\n",
    "\n",
    "a = [32, 23,545,13, 545]\n",
    "print(np.argmax(a))"
   ]
  },
  {
   "cell_type": "code",
   "execution_count": 2,
   "metadata": {},
   "outputs": [
    {
     "name": "stdout",
     "output_type": "stream",
     "text": "['新疆维吾尔自治区', '广西壮族自治区', '内蒙古自治区', '西藏自治区', '青海省']\n"
    }
   ],
   "source": [
    "\n",
    "myList = ['青海省','内蒙古自治区','西藏自治区','新疆维吾尔自治区','广西壮族自治区']  \n",
    "myList.sort(key = lambda i:len(i),reverse=True)  \n",
    "print(myList)"
   ]
  },
  {
   "cell_type": "code",
   "execution_count": 3,
   "metadata": {},
   "outputs": [
    {
     "name": "stderr",
     "output_type": "stream",
     "text": "Building prefix dict from the default dictionary ...\nDumping model to file cache /var/folders/ph/31crq1pj14n9pcl2xffj45j8t0c5l2/T/jieba.cache\nLoading model cost 1.076 seconds.\nPrefix dict has been built succesfully.\n['我', '在', '北京', '吃', '东西']\n"
    }
   ],
   "source": [
    "import jieba\n",
    "\n",
    "a = '我在北京吃东西'\n",
    "\n",
    "print(list(jieba.cut(a)))"
   ]
  },
  {
   "cell_type": "code",
   "execution_count": null,
   "metadata": {},
   "outputs": [],
   "source": []
  }
 ]
}