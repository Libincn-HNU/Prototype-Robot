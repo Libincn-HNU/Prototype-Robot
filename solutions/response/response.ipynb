{
 "nbformat": 4,
 "nbformat_minor": 2,
 "metadata": {
  "language_info": {
   "name": "python",
   "codemirror_mode": {
    "name": "ipython",
    "version": 3
   }
  },
  "orig_nbformat": 2,
  "file_extension": ".py",
  "mimetype": "text/x-python",
  "name": "python",
  "npconvert_exporter": "python",
  "pygments_lexer": "ipython3",
  "version": 3
 },
 "cells": [
  {
   "cell_type": "code",
   "execution_count": null,
   "metadata": {},
   "outputs": [],
   "source": [
    "# 时间/地点/人物/机构 替换/删除"
   ]
  },
  {
   "cell_type": "code",
   "execution_count": null,
   "metadata": {},
   "outputs": [],
   "source": [
    "import os\n",
    "from pyltp import NamedEntityRecognizer\n",
    "from pyltp import Postagger\n",
    "from pyltp import Segmentor\n",
    " \n",
    "LTP_DATA_DIR = '/Users/sunhongchao/Documents/craft/Awesome/Zero-Preprocessing/resources/ltp_data_v3.4.0'   # LTP模型目录路径\n",
    "\n",
    "seg_model_path = os.path.join(LTP_DATA_DIR, 'cws.model') \n",
    "seg = Segmentor()\n",
    "seg.load(seg_model_path)\n",
    "\n",
    "pos_model_path = os.path.join(LTP_DATA_DIR, 'pos.model') \n",
    "pos = Postagger()\n",
    "pos.load(pos_model_path)\n",
    "\n",
    "ner_model_path = os.path.join(LTP_DATA_DIR, 'ner.model') \n",
    "ner = NamedEntityRecognizer()\n",
    "ner.load(ner_model_path)\n",
    "\n",
    "# LTP BIEOS\n",
    "# 人名 Nh， 地名 Ns， 机构名 Ni\n",
    "lines = ['今天科大讯飞的股票涨了吗', '新年第一天北京下起了大雪', '山东舰今天在三亚服役了', '五一小长假去西藏玩', '开战了，美国打伊朗了', '张三和李四在一起跳舞']\n",
    "\n",
    "for line in lines:\n",
    "    print(line)\n",
    "    words = list(seg.segment(line))\n",
    "    print(words)\n",
    "    postags = list(pos.postag(words))\n",
    "    print(postags)\n",
    "    nertags = list(ner.recognize(words, postags))\n",
    "    print(nertags)\n",
    "\n",
    "seg.release()\n",
    "pos.release()\n",
    "ner.release()"
   ]
  }
 ]
}