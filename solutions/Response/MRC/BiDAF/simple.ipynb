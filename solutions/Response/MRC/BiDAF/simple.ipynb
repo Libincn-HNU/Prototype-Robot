{
 "nbformat": 4,
 "nbformat_minor": 2,
 "metadata": {
  "language_info": {
   "name": "python",
   "codemirror_mode": {
    "name": "ipython",
    "version": 3
   },
   "version": "3.6.0-final"
  },
  "orig_nbformat": 2,
  "file_extension": ".py",
  "mimetype": "text/x-python",
  "name": "python",
  "npconvert_exporter": "python",
  "pygments_lexer": "ipython3",
  "version": 3,
  "kernelspec": {
   "name": "python3",
   "display_name": "Python 3"
  }
 },
 "cells": [
  {
   "cell_type": "code",
   "execution_count": 3,
   "metadata": {},
   "outputs": [
    {
     "name": "stdout",
     "output_type": "stream",
     "text": "[[0.2 0.2 0.2]\n [0.3 0.3 0.3]\n [0.4 0.4 0.4]\n [0.5 0.5 0.5]]\n[[0.6 0.6 0.6]\n [0.7 0.7 0.7]\n [0.8 0.8 0.8]]\n"
    }
   ],
   "source": [
    "import numpy as np \n",
    "\n",
    "context = '汉堡好吃'\n",
    "query = '吃啥呢'\n",
    "\n",
    "context_index = [[0.2]*3, [0.3]*3, [0.4]*3, [0.5]*3]\n",
    "query_index = [[0.6]*3, [0.7]*3, [0.8]*3]\n",
    "\n",
    "context_index = np.asarray(context_index)\n",
    "query_index = np.asarray(query_index)\n",
    "\n",
    "print(context_index)\n",
    "print(query_index)"
   ]
  },
  {
   "cell_type": "code",
   "execution_count": 6,
   "metadata": {},
   "outputs": [
    {
     "name": "stdout",
     "output_type": "stream",
     "text": "[[0.36 0.42 0.48]\n [0.54 0.63 0.72]\n [0.72 0.84 0.96]\n [0.9  1.05 1.2 ]]\n"
    }
   ],
   "source": [
    "s = np.matmul(context_index, query_index.T)\n",
    "print(s)"
   ]
  },
  {
   "cell_type": "code",
   "execution_count": null,
   "metadata": {},
   "outputs": [],
   "source": []
  }
 ]
}